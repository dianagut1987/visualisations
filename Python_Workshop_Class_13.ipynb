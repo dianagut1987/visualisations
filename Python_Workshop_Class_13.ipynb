{
  "nbformat": 4,
  "nbformat_minor": 0,
  "metadata": {
    "colab": {
      "name": "Python Workshop  Class 13.ipynb",
      "provenance": [],
      "include_colab_link": true
    },
    "kernelspec": {
      "name": "python3",
      "display_name": "Python 3"
    }
  },
  "cells": [
    {
      "cell_type": "markdown",
      "metadata": {
        "id": "view-in-github",
        "colab_type": "text"
      },
      "source": [
        "<a href=\"https://colab.research.google.com/github/dianagut1987/visualisations/blob/main/Python_Workshop_Class_13.ipynb\" target=\"_parent\"><img src=\"https://colab.research.google.com/assets/colab-badge.svg\" alt=\"Open In Colab\"/></a>"
      ]
    },
    {
      "cell_type": "markdown",
      "metadata": {
        "id": "Jmjde5EOFD4E"
      },
      "source": [
        "#classification"
      ]
    },
    {
      "cell_type": "code",
      "metadata": {
        "colab": {
          "base_uri": "https://localhost:8080/"
        },
        "id": "5JNlkBS27sEx",
        "outputId": "211c424e-a2a4-47e1-e812-15cb4130f387"
      },
      "source": [
        "import matplotlib.pyplot as plt\n",
        "# Import datasets, classifiers and performance metrics\n",
        "from sklearn import datasets\n",
        "\n",
        "# The digits dataset\n",
        "digits = datasets.load_digits()\n",
        "print(digits.DESCR)\n"
      ],
      "execution_count": null,
      "outputs": [
        {
          "output_type": "stream",
          "text": [
            ".. _digits_dataset:\n",
            "\n",
            "Optical recognition of handwritten digits dataset\n",
            "--------------------------------------------------\n",
            "\n",
            "**Data Set Characteristics:**\n",
            "\n",
            "    :Number of Instances: 5620\n",
            "    :Number of Attributes: 64\n",
            "    :Attribute Information: 8x8 image of integer pixels in the range 0..16.\n",
            "    :Missing Attribute Values: None\n",
            "    :Creator: E. Alpaydin (alpaydin '@' boun.edu.tr)\n",
            "    :Date: July; 1998\n",
            "\n",
            "This is a copy of the test set of the UCI ML hand-written digits datasets\n",
            "https://archive.ics.uci.edu/ml/datasets/Optical+Recognition+of+Handwritten+Digits\n",
            "\n",
            "The data set contains images of hand-written digits: 10 classes where\n",
            "each class refers to a digit.\n",
            "\n",
            "Preprocessing programs made available by NIST were used to extract\n",
            "normalized bitmaps of handwritten digits from a preprinted form. From a\n",
            "total of 43 people, 30 contributed to the training set and different 13\n",
            "to the test set. 32x32 bitmaps are divided into nonoverlapping blocks of\n",
            "4x4 and the number of on pixels are counted in each block. This generates\n",
            "an input matrix of 8x8 where each element is an integer in the range\n",
            "0..16. This reduces dimensionality and gives invariance to small\n",
            "distortions.\n",
            "\n",
            "For info on NIST preprocessing routines, see M. D. Garris, J. L. Blue, G.\n",
            "T. Candela, D. L. Dimmick, J. Geist, P. J. Grother, S. A. Janet, and C.\n",
            "L. Wilson, NIST Form-Based Handprint Recognition System, NISTIR 5469,\n",
            "1994.\n",
            "\n",
            ".. topic:: References\n",
            "\n",
            "  - C. Kaynak (1995) Methods of Combining Multiple Classifiers and Their\n",
            "    Applications to Handwritten Digit Recognition, MSc Thesis, Institute of\n",
            "    Graduate Studies in Science and Engineering, Bogazici University.\n",
            "  - E. Alpaydin, C. Kaynak (1998) Cascading Classifiers, Kybernetika.\n",
            "  - Ken Tang and Ponnuthurai N. Suganthan and Xi Yao and A. Kai Qin.\n",
            "    Linear dimensionalityreduction using relevance weighted LDA. School of\n",
            "    Electrical and Electronic Engineering Nanyang Technological University.\n",
            "    2005.\n",
            "  - Claudio Gentile. A New Approximate Maximal Margin Classification\n",
            "    Algorithm. NIPS. 2000.\n"
          ],
          "name": "stdout"
        }
      ]
    },
    {
      "cell_type": "code",
      "metadata": {
        "colab": {
          "base_uri": "https://localhost:8080/",
          "height": 454
        },
        "id": "XtcLYRd-GRnX",
        "outputId": "e748e2df-a7f5-44ed-906a-f19a8c053105"
      },
      "source": [
        "images=digits.images\n",
        "print(type(images))\n",
        "print(images.shape)\n",
        "print(images[0,:,:])\n",
        "z=images[0,:,:]\n",
        "\n",
        "c = plt.imshow(z, cmap='Greys')\n",
        "plt.colorbar(c)"
      ],
      "execution_count": null,
      "outputs": [
        {
          "output_type": "stream",
          "text": [
            "<class 'numpy.ndarray'>\n",
            "(1797, 8, 8)\n",
            "[[ 0.  0.  5. 13.  9.  1.  0.  0.]\n",
            " [ 0.  0. 13. 15. 10. 15.  5.  0.]\n",
            " [ 0.  3. 15.  2.  0. 11.  8.  0.]\n",
            " [ 0.  4. 12.  0.  0.  8.  8.  0.]\n",
            " [ 0.  5.  8.  0.  0.  9.  8.  0.]\n",
            " [ 0.  4. 11.  0.  1. 12.  7.  0.]\n",
            " [ 0.  2. 14.  5. 10. 12.  0.  0.]\n",
            " [ 0.  0.  6. 13. 10.  0.  0.  0.]]\n"
          ],
          "name": "stdout"
        },
        {
          "output_type": "execute_result",
          "data": {
            "text/plain": [
              "<matplotlib.colorbar.Colorbar at 0x7f1a48dab390>"
            ]
          },
          "metadata": {
            "tags": []
          },
          "execution_count": 10
        },
        {
          "output_type": "display_data",
          "data": {
            "image/png": "[encoded data removed]",
            "text/plain": [
              "<Figure size 432x288 with 2 Axes>"
            ]
          },
          "metadata": {
            "tags": [],
            "needs_background": "light"
          }
        }
      ]
    },
    {
      "cell_type": "markdown",
      "metadata": {
        "id": "deg77EHKFDFl"
      },
      "source": [
        ""
      ]
    },
    {
      "cell_type": "code",
      "metadata": {
        "id": "k1NduhQx79s8"
      },
      "source": [
        "print(digits.DESCR)\n",
        "print(type(digits))"
      ],
      "execution_count": null,
      "outputs": []
    },
    {
      "cell_type": "code",
      "metadata": {
        "colab": {
          "base_uri": "https://localhost:8080/"
        },
        "id": "ViO410stAkgo",
        "outputId": "f6b8b519-fe0f-4c50-ae68-61ab4f1f052f"
      },
      "source": [
        "print(digits.images[0:2,:,:])\n",
        "print(images.shape)\n",
        "n_samples = len(digits.images)\n",
        "print(n_samples)\n",
        "data = digits.images.reshape((n_samples, -1))\n",
        "print(data.shape)\n",
        "print(data[0:2,:])"
      ],
      "execution_count": null,
      "outputs": [
        {
          "output_type": "stream",
          "text": [
            "[[[ 0.  0.  5. 13.  9.  1.  0.  0.]\n",
            "  [ 0.  0. 13. 15. 10. 15.  5.  0.]\n",
            "  [ 0.  3. 15.  2.  0. 11.  8.  0.]\n",
            "  [ 0.  4. 12.  0.  0.  8.  8.  0.]\n",
            "  [ 0.  5.  8.  0.  0.  9.  8.  0.]\n",
            "  [ 0.  4. 11.  0.  1. 12.  7.  0.]\n",
            "  [ 0.  2. 14.  5. 10. 12.  0.  0.]\n",
            "  [ 0.  0.  6. 13. 10.  0.  0.  0.]]\n",
            "\n",
            " [[ 0.  0.  0. 12. 13.  5.  0.  0.]\n",
            "  [ 0.  0.  0. 11. 16.  9.  0.  0.]\n",
            "  [ 0.  0.  3. 15. 16.  6.  0.  0.]\n",
            "  [ 0.  7. 15. 16. 16.  2.  0.  0.]\n",
            "  [ 0.  0.  1. 16. 16.  3.  0.  0.]\n",
            "  [ 0.  0.  1. 16. 16.  6.  0.  0.]\n",
            "  [ 0.  0.  1. 16. 16.  6.  0.  0.]\n",
            "  [ 0.  0.  0. 11. 16. 10.  0.  0.]]]\n",
            "(1797, 8, 8)\n",
            "1797\n",
            "(1797, 64)\n",
            "[[ 0.  0.  5. 13.  9.  1.  0.  0.  0.  0. 13. 15. 10. 15.  5.  0.  0.  3.\n",
            "  15.  2.  0. 11.  8.  0.  0.  4. 12.  0.  0.  8.  8.  0.  0.  5.  8.  0.\n",
            "   0.  9.  8.  0.  0.  4. 11.  0.  1. 12.  7.  0.  0.  2. 14.  5. 10. 12.\n",
            "   0.  0.  0.  0.  6. 13. 10.  0.  0.  0.]\n",
            " [ 0.  0.  0. 12. 13.  5.  0.  0.  0.  0.  0. 11. 16.  9.  0.  0.  0.  0.\n",
            "   3. 15. 16.  6.  0.  0.  0.  7. 15. 16. 16.  2.  0.  0.  0.  0.  1. 16.\n",
            "  16.  3.  0.  0.  0.  0.  1. 16. 16.  6.  0.  0.  0.  0.  1. 16. 16.  6.\n",
            "   0.  0.  0.  0.  0. 11. 16. 10.  0.  0.]]\n"
          ],
          "name": "stdout"
        }
      ]
    },
    {
      "cell_type": "code",
      "metadata": {
        "colab": {
          "base_uri": "https://localhost:8080/"
        },
        "id": "TuGKYGBlBfjJ",
        "outputId": "356b7ac5-bdb5-4c29-da28-71d372c3a328"
      },
      "source": [
        "y=digits.target\n",
        "print(y)\n",
        "print(y.shape)"
      ],
      "execution_count": null,
      "outputs": [
        {
          "output_type": "stream",
          "text": [
            "[0 1 2 ... 8 9 8]\n",
            "(1797,)\n"
          ],
          "name": "stdout"
        }
      ]
    },
    {
      "cell_type": "code",
      "metadata": {
        "id": "O72waUMBCMhg",
        "colab": {
          "base_uri": "https://localhost:8080/"
        },
        "outputId": "46ff5e35-5f96-4b95-9d3e-d81028eb0e26"
      },
      "source": [
        " from sklearn.model_selection import train_test_split\n",
        " X_train, X_test, y_train, y_test =  train_test_split(data, y, test_size=.5, random_state=42)\n",
        " print(X_train.shape)\n",
        " print(X_test.shape)\n"
      ],
      "execution_count": null,
      "outputs": [
        {
          "output_type": "stream",
          "text": [
            "(898, 64)\n",
            "(899, 64)\n"
          ],
          "name": "stdout"
        }
      ]
    },
    {
      "cell_type": "code",
      "metadata": {
        "colab": {
          "base_uri": "https://localhost:8080/"
        },
        "id": "Q6B7BP54B_uS",
        "outputId": "44b56f9f-027e-42ab-f71b-0a1f2a41f342"
      },
      "source": [
        "from sklearn import svm\n",
        "classifier = svm.SVC(kernel=\"linear\")\n",
        "# We learn the digits on the first half of the digits\n",
        "classifier.fit(X_train,y_train)"
      ],
      "execution_count": null,
      "outputs": [
        {
          "output_type": "execute_result",
          "data": {
            "text/plain": [
              "SVC(C=1.0, break_ties=False, cache_size=200, class_weight=None, coef0=0.0,\n",
              "    decision_function_shape='ovr', degree=3, gamma='scale', kernel='linear',\n",
              "    max_iter=-1, probability=False, random_state=None, shrinking=True,\n",
              "    tol=0.001, verbose=False)"
            ]
          },
          "metadata": {
            "tags": []
          },
          "execution_count": 47
        }
      ]
    },
    {
      "cell_type": "code",
      "metadata": {
        "id": "x7xAYkvUEAIW",
        "colab": {
          "base_uri": "https://localhost:8080/",
          "height": 706
        },
        "outputId": "2ddae251-ac21-4519-f037-476aafa4b626"
      },
      "source": [
        "expected = y_test\n",
        "predicted = classifier.predict(X_test)\n",
        "print(predicted)\n",
        "z=X_test[1,:].reshape((8,8))\n",
        "\n",
        "c = plt.imshow(z, cmap='Greys')\n",
        "plt.colorbar(c)"
      ],
      "execution_count": null,
      "outputs": [
        {
          "output_type": "stream",
          "text": [
            "[6 9 3 7 2 1 5 2 5 2 1 9 4 0 4 2 3 7 8 8 4 3 9 7 5 6 3 5 6 3 4 9 1 4 4 6 9\n",
            " 4 7 6 6 9 1 3 6 1 3 0 6 5 5 1 9 5 6 0 9 0 0 1 0 4 5 2 4 5 7 0 7 5 9 5 5 4\n",
            " 7 0 4 5 5 9 9 0 2 3 8 0 6 4 4 9 1 2 8 3 5 2 9 0 4 4 4 3 5 3 1 3 5 9 4 2 7\n",
            " 7 4 4 1 9 2 7 8 7 2 6 9 4 0 7 2 7 5 8 7 5 7 9 0 6 6 4 2 8 0 9 4 6 9 9 6 9\n",
            " 0 3 5 6 6 0 6 4 3 9 3 9 7 2 9 0 4 5 3 6 5 9 9 8 4 2 1 3 7 7 2 2 3 9 8 0 3\n",
            " 2 2 5 6 9 9 4 1 5 4 2 3 6 4 8 5 9 5 7 8 9 4 8 1 5 4 4 9 6 1 8 6 0 4 5 2 7\n",
            " 1 6 4 5 6 0 3 2 3 6 7 1 5 1 4 7 6 5 1 5 5 1 0 2 8 8 9 9 7 6 2 2 2 3 4 8 8\n",
            " 3 6 0 9 7 7 0 1 0 4 5 1 5 3 6 0 4 1 0 0 3 6 5 9 7 3 5 5 9 9 8 5 3 3 2 0 5\n",
            " 8 3 4 0 2 4 6 4 3 4 5 0 5 2 1 3 1 4 1 1 7 0 1 5 2 1 2 8 7 0 6 4 8 8 5 1 8\n",
            " 4 5 8 7 9 8 5 0 6 2 0 7 9 8 9 5 2 7 7 1 8 7 4 3 8 3 5 6 0 0 3 0 5 0 0 4 1\n",
            " 2 8 4 5 9 6 3 1 8 8 4 2 3 8 9 8 8 5 0 6 3 3 7 1 6 4 1 2 1 1 6 4 7 4 8 3 4\n",
            " 0 5 1 9 4 5 7 6 3 7 0 5 9 7 5 9 7 4 2 1 9 0 7 5 8 3 6 3 9 6 9 5 0 1 5 5 8\n",
            " 3 3 6 2 6 5 7 2 0 8 7 3 7 0 2 2 3 5 8 7 3 6 5 9 9 2 5 6 3 0 7 1 1 9 6 1 1\n",
            " 0 0 2 9 3 9 9 3 7 7 1 3 5 4 6 1 2 1 1 8 7 6 9 2 0 4 4 8 8 7 1 3 1 7 1 3 5\n",
            " 1 7 0 0 2 2 6 9 4 1 9 0 6 7 7 9 5 4 7 0 7 6 8 7 1 4 6 2 8 7 5 9 0 3 9 6 6\n",
            " 1 9 4 2 9 8 9 7 4 8 5 5 9 7 7 6 8 1 3 5 7 9 5 5 2 4 1 2 2 4 8 7 5 8 8 9 4\n",
            " 9 0 1 1 8 9 3 4 2 9 1 7 3 3 3 1 7 6 3 0 6 5 2 3 5 7 8 0 9 5 2 2 1 4 1 8 2\n",
            " 4 1 6 2 0 8 1 0 6 9 7 7 8 2 3 2 6 9 5 7 1 4 8 1 2 9 3 4 8 4 0 8 5 1 8 1 5\n",
            " 0 3 0 2 4 1 1 0 3 9 2 6 0 4 6 6 5 4 0 3 1 6 6 4 1 5 7 4 0 5 4 8 9 7 0 4 7\n",
            " 6 3 3 4 8 8 1 6 5 9 3 2 2 1 8 2 7 6 0 4 3 0 8 2 6 2 1 6 3 8 2 6 7 9 5 6 9\n",
            " 1 8 9 4 6 4 6 1 4 0 2 9 8 6 0 6 5 6 9 0 3 5 6 7 4 3 0 9 2 0 4 1 2 7 0 7 0\n",
            " 7 3 6 3 4 9 2 4 3 4 9 6 6 2 7 8 5 8 3 3 5 1 9 6 5 8 2 0 7 3 9 6 7 2 1 0 1\n",
            " 4 3 2 2 5 8 3 7 3 8 0 7 6 9 7 8 4 9 6 8 4 6 7 1 8 0 8 3 6 0 2 8 3 6 1 1 5\n",
            " 2 7 5 9 6 1 6 3 5 1 5 4 8 9 0 1 7 1 2 9 8 3 1 4 3 5 6 6 7 3 4 7 7 4 0 5 6\n",
            " 6 1 8 6 2 9 8 1 8 5 2]\n"
          ],
          "name": "stdout"
        },
        {
          "output_type": "execute_result",
          "data": {
            "text/plain": [
              "<matplotlib.colorbar.Colorbar at 0x7f1a4665d780>"
            ]
          },
          "metadata": {
            "tags": []
          },
          "execution_count": 35
        },
        {
          "output_type": "display_data",
          "data": {
            "image/png": "[encoded data removed]",
            "text/plain": [
              "<Figure size 432x288 with 2 Axes>"
            ]
          },
          "metadata": {
            "tags": [],
            "needs_background": "light"
          }
        }
      ]
    },
    {
      "cell_type": "code",
      "metadata": {
        "colab": {
          "base_uri": "https://localhost:8080/",
          "height": 510
        },
        "id": "O-u9DBkWETP5",
        "outputId": "2bb04092-244d-406c-b003-5990e6ca63d3"
      },
      "source": [
        "from sklearn import metrics\n",
        "print(\"Confusion matrix:\\n%s\" % metrics.confusion_matrix(expected, predicted))\n",
        "disp = metrics.plot_confusion_matrix(classifier, X_test, y_test)\n",
        "disp.figure_.suptitle(\"Confusion Matrix\")"
      ],
      "execution_count": null,
      "outputs": [
        {
          "output_type": "stream",
          "text": [
            "Confusion matrix:\n",
            "[[82  0  0  0  0  0  0  0  0  0]\n",
            " [ 0 88  0  0  1  0  0  0  0  0]\n",
            " [ 0  0 83  0  0  0  0  0  0  0]\n",
            " [ 0  0  0 88  0  0  0  1  4  0]\n",
            " [ 0  1  0  0 92  0  0  0  0  0]\n",
            " [ 0  0  0  0  0 96  0  1  0  2]\n",
            " [ 2  0  0  0  0  0 96  0  0  0]\n",
            " [ 0  0  0  0  0  0  0 86  0  1]\n",
            " [ 0  2  0  0  2  1  0  1 77  0]\n",
            " [ 0  0  0  1  0  0  0  0  1 90]]\n"
          ],
          "name": "stdout"
        },
        {
          "output_type": "execute_result",
          "data": {
            "text/plain": [
              "Text(0.5, 0.98, 'Confusion Matrix')"
            ]
          },
          "metadata": {
            "tags": []
          },
          "execution_count": 36
        },
        {
          "output_type": "display_data",
          "data": {
            "image/png": "[encoded data removed]",
            "text/plain": [
              "<Figure size 432x288 with 2 Axes>"
            ]
          },
          "metadata": {
            "tags": [],
            "needs_background": "light"
          }
        }
      ]
    },
    {
      "cell_type": "code",
      "metadata": {
        "colab": {
          "base_uri": "https://localhost:8080/",
          "height": 319
        },
        "id": "kIhOe0vEHTpq",
        "outputId": "17c3a694-0eb1-4ab7-bc27-2c7e0b5d86d5"
      },
      "source": [
        "#print((expected==3) & (predicted==8))\n",
        "missclass=X_test[(expected==3) & (predicted==8)]\n",
        "print(missclass.shape)\n",
        "missclass=missclass.reshape((4,8,8))\n",
        "print(missclass.shape)\n",
        "\n",
        "c = plt.imshow(missclass[1,:,:], cmap='Greys')\n",
        "plt.colorbar(c)"
      ],
      "execution_count": null,
      "outputs": [
        {
          "output_type": "stream",
          "text": [
            "(4, 64)\n",
            "(4, 8, 8)\n"
          ],
          "name": "stdout"
        },
        {
          "output_type": "execute_result",
          "data": {
            "text/plain": [
              "<matplotlib.colorbar.Colorbar at 0x7f1a464300f0>"
            ]
          },
          "metadata": {
            "tags": []
          },
          "execution_count": 38
        },
        {
          "output_type": "display_data",
          "data": {
            "image/png": "[encoded data removed]",
            "text/plain": [
              "<Figure size 432x288 with 2 Axes>"
            ]
          },
          "metadata": {
            "tags": [],
            "needs_background": "light"
          }
        }
      ]
    },
    {
      "cell_type": "code",
      "metadata": {
        "colab": {
          "base_uri": "https://localhost:8080/",
          "height": 279
        },
        "id": "pxCnSSGUJMzm",
        "outputId": "c771622f-a33c-4a3b-bc14-6dfebb79d039"
      },
      "source": [
        "classifier = svm.SVC(kernel=\"poly\")\n",
        "# We learn the digits on the first half of the digits\n",
        "classifier.fit(X_train,y_train)\n",
        "disp = metrics.plot_confusion_matrix(classifier, X_test, y_test)"
      ],
      "execution_count": null,
      "outputs": [
        {
          "output_type": "display_data",
          "data": {
            "image/png": "[encoded data removed]",
            "text/plain": [
              "<Figure size 432x288 with 2 Axes>"
            ]
          },
          "metadata": {
            "tags": [],
            "needs_background": "light"
          }
        }
      ]
    },
    {
      "cell_type": "code",
      "metadata": {
        "colab": {
          "base_uri": "https://localhost:8080/"
        },
        "id": "_pclhVsYOKDa",
        "outputId": "abe7da91-1b41-495b-f18c-86dfc197fb29"
      },
      "source": [
        "print(\"Classification report for classifier %s:\\n%s\\n\"\n",
        "      % (classifier, metrics.classification_report(expected, predicted)))"
      ],
      "execution_count": null,
      "outputs": [
        {
          "output_type": "stream",
          "text": [
            "Classification report for classifier SVC(C=1.0, break_ties=False, cache_size=200, class_weight=None, coef0=0.0,\n",
            "    decision_function_shape='ovr', degree=3, gamma='scale', kernel='linear',\n",
            "    max_iter=-1, probability=False, random_state=None, shrinking=True,\n",
            "    tol=0.001, verbose=False):\n",
            "              precision    recall  f1-score   support\n",
            "\n",
            "           0       0.98      1.00      0.99        82\n",
            "           1       0.97      0.99      0.98        89\n",
            "           2       1.00      1.00      1.00        83\n",
            "           3       0.99      0.95      0.97        93\n",
            "           4       0.97      0.99      0.98        93\n",
            "           5       0.99      0.97      0.98        99\n",
            "           6       1.00      0.98      0.99        98\n",
            "           7       0.97      0.99      0.98        87\n",
            "           8       0.94      0.93      0.93        83\n",
            "           9       0.97      0.98      0.97        92\n",
            "\n",
            "    accuracy                           0.98       899\n",
            "   macro avg       0.98      0.98      0.98       899\n",
            "weighted avg       0.98      0.98      0.98       899\n",
            "\n",
            "\n"
          ],
          "name": "stdout"
        }
      ]
    },
    {
      "cell_type": "markdown",
      "metadata": {
        "id": "xsxXhQkeMDwf"
      },
      "source": [
        "#Classes"
      ]
    },
    {
      "cell_type": "code",
      "metadata": {
        "id": "7fMoGBIYMDbY"
      },
      "source": [
        "class MyClass:\n",
        "    \"\"\"A simple example class\"\"\"\n",
        "    i = 12345 #shared by everyone\n",
        "\n",
        "    def f(self):\n",
        "        return 'hello world'"
      ],
      "execution_count": null,
      "outputs": []
    },
    {
      "cell_type": "code",
      "metadata": {
        "id": "bFtJOEGzTsfX"
      },
      "source": [
        "class MyClass:\n",
        "    \"\"\"A simple example class\"\"\"\n",
        "    i = 12345 #shared by everyone\n",
        "    def __init__(self):\n",
        "      self.data = [] #private for each instance\n",
        "    def f(self):\n",
        "        return 'hello world'    \n",
        "    \n"
      ],
      "execution_count": null,
      "outputs": []
    },
    {
      "cell_type": "code",
      "metadata": {
        "id": "iTlP7g0sNH3V"
      },
      "source": [
        "class My2Class(MyClass):\n",
        "  ii=123\n"
      ],
      "execution_count": null,
      "outputs": []
    },
    {
      "cell_type": "code",
      "metadata": {
        "id": "UaA6cajDMdh_",
        "colab": {
          "base_uri": "https://localhost:8080/"
        },
        "outputId": "a14ce459-b17e-4c93-c159-6a412736749d"
      },
      "source": [
        "idan=MyClass()\n",
        "idan2=MyClass()\n",
        "idan.i=10\n",
        "idan2.i"
      ],
      "execution_count": null,
      "outputs": [
        {
          "output_type": "execute_result",
          "data": {
            "text/plain": [
              "12345"
            ]
          },
          "metadata": {
            "tags": []
          },
          "execution_count": 46
        }
      ]
    },
    {
      "cell_type": "code",
      "metadata": {
        "id": "O0QscN28ULkk"
      },
      "source": [
        ""
      ],
      "execution_count": null,
      "outputs": []
    },
    {
      "cell_type": "code",
      "metadata": {
        "id": "ksqQMSNENRUv"
      },
      "source": [
        "idan=My2Class()"
      ],
      "execution_count": null,
      "outputs": []
    },
    {
      "cell_type": "code",
      "metadata": {
        "colab": {
          "base_uri": "https://localhost:8080/"
        },
        "id": "6EMoyqzkMgXw",
        "outputId": "83c7b83d-3666-42fa-996a-919ff69957e5"
      },
      "source": [
        "idan.data"
      ],
      "execution_count": null,
      "outputs": [
        {
          "output_type": "execute_result",
          "data": {
            "text/plain": [
              "[]"
            ]
          },
          "metadata": {
            "tags": []
          },
          "execution_count": 67
        }
      ]
    },
    {
      "cell_type": "code",
      "metadata": {
        "colab": {
          "base_uri": "https://localhost:8080/",
          "height": 35
        },
        "id": "OmBUmlMqMi0E",
        "outputId": "192822e2-b2d8-4aa9-a711-ca4add63b543"
      },
      "source": [
        "idan.f()"
      ],
      "execution_count": null,
      "outputs": [
        {
          "output_type": "execute_result",
          "data": {
            "application/vnd.google.colaboratory.intrinsic+json": {
              "type": "string"
            },
            "text/plain": [
              "'hello world'"
            ]
          },
          "metadata": {
            "tags": []
          },
          "execution_count": 48
        }
      ]
    }
  ]
}